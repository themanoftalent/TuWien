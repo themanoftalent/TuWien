{
  "nbformat": 4,
  "nbformat_minor": 0,
  "metadata": {
    "colab": {
      "provenance": [],
      "authorship_tag": "ABX9TyOHVYdRc/HfWfUNtBr4ZX4m",
      "include_colab_link": true
    },
    "kernelspec": {
      "name": "python3",
      "display_name": "Python 3"
    },
    "language_info": {
      "name": "python"
    }
  },
  "cells": [
    {
      "cell_type": "markdown",
      "metadata": {
        "id": "view-in-github",
        "colab_type": "text"
      },
      "source": [
        "<a href=\"https://colab.research.google.com/github/themanoftalent/TuWien/blob/main/Python_Parallel_Global_Multiobjective_Optimizer.ipynb\" target=\"_parent\"><img src=\"https://colab.research.google.com/assets/colab-badge.svg\" alt=\"Open In Colab\"/></a>"
      ]
    },
    {
      "cell_type": "code",
      "execution_count": 1,
      "metadata": {
        "colab": {
          "base_uri": "https://localhost:8080/"
        },
        "id": "Horp_G3kQA6P",
        "outputId": "dc1630c4-e8f4-4f29-da8c-d6187792e841"
      },
      "outputs": [
        {
          "output_type": "stream",
          "name": "stdout",
          "text": [
            "Looking in indexes: https://pypi.org/simple, https://us-python.pkg.dev/colab-wheels/public/simple/\n",
            "Collecting pygmo\n",
            "  Downloading pygmo-2.19.0-cp38-cp38-manylinux_2_28_x86_64.whl (14.7 MB)\n",
            "\u001b[2K     \u001b[90m━━━━━━━━━━━━━━━━━━━━━━━━━━━━━━━━━━━━━━━━\u001b[0m \u001b[32m14.7/14.7 MB\u001b[0m \u001b[31m50.3 MB/s\u001b[0m eta \u001b[36m0:00:00\u001b[0m\n",
            "\u001b[?25hRequirement already satisfied: scipy in /usr/local/lib/python3.8/dist-packages (from pygmo) (1.7.3)\n",
            "Requirement already satisfied: cloudpickle in /usr/local/lib/python3.8/dist-packages (from pygmo) (2.2.1)\n",
            "Requirement already satisfied: numpy in /usr/local/lib/python3.8/dist-packages (from pygmo) (1.21.6)\n",
            "Installing collected packages: pygmo\n",
            "Successfully installed pygmo-2.19.0\n"
          ]
        }
      ],
      "source": [
        "!pip install pygmo"
      ]
    },
    {
      "cell_type": "code",
      "source": [
        "import pygmo as pg\n",
        "\n",
        "# Define the optimization problem as a user-defined problem (UDP)\n",
        "class MyProblem:\n",
        "    def __init__(self):\n",
        "        self.n_dim = 2\n",
        "    def fitness(self, x):\n",
        "        return [x[0]**2 + x[1]**2]\n",
        "    def get_bounds(self):\n",
        "        return ([-5, -5], [5, 5])\n",
        "\n",
        "# Create an instance of the UDP\n",
        "prob = pg.problem(MyProblem())\n",
        "\n",
        "# Choose a global optimization algorithm\n",
        "algo = pg.algorithm(pg.sade(gen=100))\n",
        "\n",
        "# Create an instance of a population (a collection of candidate solutions)\n",
        "pop = pg.population(prob, size=20)\n",
        "\n",
        "# Evolve the population using the chosen algorithm\n",
        "pop = algo.evolve(pop)\n",
        "\n",
        "# Extract the best solution\n",
        "best_x = pop.champion_x\n",
        "best_f = pop.champion_f\n",
        "\n",
        "print(\"Best solution: x = {}, f = {}\".format(best_x, best_f))"
      ],
      "metadata": {
        "colab": {
          "base_uri": "https://localhost:8080/"
        },
        "id": "IamHealZQDb1",
        "outputId": "9601eba1-0c91-4ec6-c345-504a5afe1dba"
      },
      "execution_count": 8,
      "outputs": [
        {
          "output_type": "stream",
          "name": "stdout",
          "text": [
            "Best solution: x = [-6.67787474e-06  4.11461439e-05], f = [1.73759917e-09]\n"
          ]
        }
      ]
    },
    {
      "cell_type": "code",
      "source": [],
      "metadata": {
        "id": "ChcpTT3aQaKT"
      },
      "execution_count": null,
      "outputs": []
    }
  ]
}